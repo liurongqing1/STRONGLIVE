{
 "cells": [
  {
   "cell_type": "code",
   "execution_count": 1,
   "id": "daf94260",
   "metadata": {},
   "outputs": [
    {
     "data": {
      "image/png": "[encoded data removed]",
      "text/plain": [
       "<Figure size 432x288 with 1 Axes>"
      ]
     },
     "metadata": {
      "needs_background": "light"
     },
     "output_type": "display_data"
    }
   ],
   "source": [
    "import numpy as np\n",
    "from matplotlib import pyplot as plt\n",
    "\n",
    "# 生成一组随机数据\n",
    "x = np.sort(np.random.randn(100))\n",
    "\n",
    "# 计算CDF\n",
    "y = np.arange(1, len(x)+1) / len(x)\n",
    "\n",
    "# 绘制CDF图\n",
    "plt.step(x, y)\n",
    "\n",
    "plt.show()\n"
   ]
  },
  {
   "cell_type": "code",
   "execution_count": 19,
   "id": "e332cc7e",
   "metadata": {},
   "outputs": [
    {
     "data": {
      "text/plain": [
       "0        0.733837\n",
       "1        0.778122\n",
       "2        0.816311\n",
       "3        0.821152\n",
       "4        0.831909\n",
       "          ...    \n",
       "1013    10.634274\n",
       "1014    10.702225\n",
       "1015    11.107601\n",
       "1016    11.198322\n",
       "1017    11.412933\n",
       "Name: size, Length: 1018, dtype: float64"
      ]
     },
     "execution_count": 19,
     "metadata": {},
     "output_type": "execute_result"
    }
   ],
   "source": [
    "import pandas as pd\n",
    "import numpy as np\n",
    "from scipy import stats\n",
    "df = pd.read_csv(\"C:/Users/aqing/Desktop/feature_test_Bee_016.csv\") \n",
    "TI = df[\"TI\"]\n",
    "SI = df[\"SI\"]\n",
    "\n",
    "df = pd.read_excel(\"E:/研学/实验数据/数据集文件大小.xlsx\") \n",
    "Size=df[\"size\"]\n",
    "Size"
   ]
  },
  {
   "cell_type": "code",
   "execution_count": 20,
   "id": "d1aa1ebf",
   "metadata": {},
   "outputs": [
    {
     "data": {
      "text/plain": [
       "RelfreqResult(frequency=array([0.00098232, 0.        , 0.        , ..., 0.        , 0.        ,\n",
       "       0.00098232]), lowerlimit=0.7286480624659533, binsize=0.01037813043918745, extrapoints=0)"
      ]
     },
     "execution_count": 20,
     "metadata": {},
     "output_type": "execute_result"
    }
   ],
   "source": [
    "TI = stats.relfreq(TI, numbins=926) # numbins 是统计一次的间隔(步长)是多大\n",
    "SI = stats.relfreq(SI, numbins=926) # numbins 是统计一次的间隔(步长)是多大\n",
    "\n",
    "Size = stats.relfreq(Size, numbins=1030)\n",
    "Size "
   ]
  },
  {
   "cell_type": "code",
   "execution_count": 21,
   "id": "2b939ee9",
   "metadata": {},
   "outputs": [
    {
     "data": {
      "text/plain": [
       "array([9.82318271e-04, 9.82318271e-04, 9.82318271e-04, ...,\n",
       "       9.99017682e-01, 9.99017682e-01, 1.00000000e+00])"
      ]
     },
     "execution_count": 21,
     "metadata": {},
     "output_type": "execute_result"
    }
   ],
   "source": [
    "cdf_TI = np.cumsum(TI.frequency)\n",
    "cdf_SI = np.cumsum(SI.frequency)\n",
    "\n",
    "cdf_Size = np.cumsum(Size.frequency)\n",
    "cdf_Size "
   ]
  },
  {
   "cell_type": "code",
   "execution_count": 22,
   "id": "14723358",
   "metadata": {},
   "outputs": [
    {
     "data": {
      "text/plain": [
       "array([ 0.72864806,  0.73903628,  0.74942449, ..., 11.39734598,\n",
       "       11.4077342 , 11.41812241])"
      ]
     },
     "execution_count": 22,
     "metadata": {},
     "output_type": "execute_result"
    }
   ],
   "source": [
    "x_TI = TI.lowerlimit + np.linspace(0, TI.binsize * TI.frequency.size, TI.frequency.size)\n",
    "x_SI = SI.lowerlimit + np.linspace(0, SI.binsize * SI.frequency.size, SI.frequency.size)\n",
    "\n",
    "x_Size = Size.lowerlimit + np.linspace(0, Size.binsize * Size.frequency.size, Size.frequency.size)\n",
    "x_Size "
   ]
  },
  {
   "cell_type": "code",
   "execution_count": 24,
   "id": "70bf8b63",
   "metadata": {},
   "outputs": [],
   "source": [
    "#df1 = pd.DataFrame(cdf_TI,columns=list('T'))\n",
    "#df1.to_excel('E:/研学/绘图/me/cdf_TI.xlsx', index=False)\n",
    "#df2 = pd.DataFrame(cdf_SI,columns=list('S'))\n",
    "#df2.to_excel('E:/研学/绘图/me/cdf_SI.xlsx', index=False)\n",
    "\n",
    "df3 = pd.DataFrame(cdf_Size,columns=list('M'))\n",
    "df3.to_excel('E:/研学/绘图/me/cdf_Size.xlsx', index=False)\n",
    "\n",
    "#df1 = pd.DataFrame(x_TI,columns=list('x'))\n",
    "#df1.to_excel('E:/研学/绘图/me/cdf_TIx.xlsx', index=False)\n",
    "#df2 = pd.DataFrame(x_SI,columns=list('x'))\n",
    "#df2.to_excel('E:/研学/绘图/me/cdf_SIx.xlsx', index=False)\n",
    "\n",
    "df3 = pd.DataFrame(x_Size,columns=list('M'))\n",
    "df3.to_excel('E:/研学/绘图/me/cdf_Sizex.xlsx', index=False)"
   ]
  },
  {
   "cell_type": "code",
   "execution_count": null,
   "id": "1489759d",
   "metadata": {},
   "outputs": [],
   "source": []
  },
  {
   "cell_type": "code",
   "execution_count": null,
   "id": "ee2eb06b",
   "metadata": {},
   "outputs": [],
   "source": []
  }
 ],
 "metadata": {
  "kernelspec": {
   "display_name": "Python [conda env:pytorch_envs]",
   "language": "python",
   "name": "conda-env-pytorch_envs-py"
  },
  "language_info": {
   "codemirror_mode": {
    "name": "ipython",
    "version": 3
   },
   "file_extension": ".py",
   "mimetype": "text/x-python",
   "name": "python",
   "nbconvert_exporter": "python",
   "pygments_lexer": "ipython3",
   "version": "3.8.8"
  }
 },
 "nbformat": 4,
 "nbformat_minor": 5
}
